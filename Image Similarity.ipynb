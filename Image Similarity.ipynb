{
  "nbformat": 4,
  "nbformat_minor": 0,
  "metadata": {
    "colab": {
      "name": "Image Similarity",
      "version": "0.3.2",
      "provenance": [],
      "collapsed_sections": []
    },
    "kernelspec": {
      "name": "python3",
      "display_name": "Python 3"
    },
    "accelerator": "TPU"
  },
  "cells": [
    {
      "cell_type": "markdown",
      "metadata": {
        "id": "9-Z3aojXj8QU",
        "colab_type": "text"
      },
      "source": [
        "# **Image Similarity**"
      ]
    },
    {
      "cell_type": "markdown",
      "metadata": {
        "id": "9Ynozz1Sj_qp",
        "colab_type": "text"
      },
      "source": [
        "Finding similar images"
      ]
    },
    {
      "cell_type": "markdown",
      "metadata": {
        "id": "thdB-R25kGKS",
        "colab_type": "text"
      },
      "source": [
        "Author: Shreyash Gupta"
      ]
    },
    {
      "cell_type": "markdown",
      "metadata": {
        "id": "z3kFcpvykEco",
        "colab_type": "text"
      },
      "source": [
        "Organization: IndiaMART InterMESH Pvt. Ltd."
      ]
    },
    {
      "cell_type": "markdown",
      "metadata": {
        "id": "Y-wCGavhkKYg",
        "colab_type": "text"
      },
      "source": [
        "# **Referring to image dataset**"
      ]
    },
    {
      "cell_type": "markdown",
      "metadata": {
        "id": "lMvOYcgx9ua3",
        "colab_type": "text"
      },
      "source": [
        "Mounting Google Drive"
      ]
    },
    {
      "cell_type": "code",
      "metadata": {
        "id": "jYC9riafoPIq",
        "colab_type": "code",
        "colab": {}
      },
      "source": [
        "from google.colab import drive\n",
        "drive.mount('/content/drive')"
      ],
      "execution_count": 0,
      "outputs": []
    },
    {
      "cell_type": "markdown",
      "metadata": {
        "id": "op4P_SSN9zID",
        "colab_type": "text"
      },
      "source": [
        "Changing directory to data path"
      ]
    },
    {
      "cell_type": "code",
      "metadata": {
        "id": "7m0kq40LudeN",
        "colab_type": "code",
        "colab": {}
      },
      "source": [
        "import zipfile\n",
        "import os\n",
        "os.chdir(\"/content/drive/My Drive/Colab Notebooks\")"
      ],
      "execution_count": 0,
      "outputs": []
    },
    {
      "cell_type": "markdown",
      "metadata": {
        "id": "51vBO5zWkWVI",
        "colab_type": "text"
      },
      "source": [
        "# **Building the model**"
      ]
    },
    {
      "cell_type": "markdown",
      "metadata": {
        "id": "bDS7AGs6kZYB",
        "colab_type": "text"
      },
      "source": [
        "Importing necessary modules"
      ]
    },
    {
      "cell_type": "code",
      "metadata": {
        "id": "ID02fU8PeAZo",
        "colab_type": "code",
        "colab": {}
      },
      "source": [
        "import keras\n",
        "from keras.models import Model"
      ],
      "execution_count": 0,
      "outputs": []
    },
    {
      "cell_type": "markdown",
      "metadata": {
        "id": "98_3FqZekdao",
        "colab_type": "text"
      },
      "source": [
        "Loading the VGG16 model"
      ]
    },
    {
      "cell_type": "code",
      "metadata": {
        "id": "wCQdsp_7eThW",
        "colab_type": "code",
        "colab": {}
      },
      "source": [
        "model = keras.applications.VGG16(weights = \"imagenet\",\n",
        "                                 include_top = True)"
      ],
      "execution_count": 0,
      "outputs": []
    },
    {
      "cell_type": "markdown",
      "metadata": {
        "id": "eeBiUnmnkhwB",
        "colab_type": "text"
      },
      "source": [
        "Creating the model"
      ]
    },
    {
      "cell_type": "code",
      "metadata": {
        "id": "MZqTvecDhl4k",
        "colab_type": "code",
        "colab": {}
      },
      "source": [
        "feat_extractor = Model(inputs = model.input,\n",
        "                       outputs = model.get_layer(\"fc2\").output)"
      ],
      "execution_count": 0,
      "outputs": []
    },
    {
      "cell_type": "code",
      "metadata": {
        "id": "uDkvFvHewNLL",
        "colab_type": "code",
        "colab": {}
      },
      "source": [
        "model.summary()"
      ],
      "execution_count": 0,
      "outputs": []
    },
    {
      "cell_type": "markdown",
      "metadata": {
        "id": "rIvbRG3i9hjp",
        "colab_type": "text"
      },
      "source": [
        "# Image feature extraction"
      ]
    },
    {
      "cell_type": "markdown",
      "metadata": {
        "id": "w8c1JJkt-LAU",
        "colab_type": "text"
      },
      "source": [
        "Importing neccessary modules"
      ]
    },
    {
      "cell_type": "code",
      "metadata": {
        "id": "LkD6BEYie-pG",
        "colab_type": "code",
        "colab": {}
      },
      "source": [
        "from keras.preprocessing import image\n",
        "import numpy as np\n",
        "import matplotlib.pyplot as plt\n",
        "from keras.applications.imagenet_utils import decode_predictions, preprocess_input\n",
        "from sklearn.decomposition import PCA"
      ],
      "execution_count": 0,
      "outputs": []
    },
    {
      "cell_type": "markdown",
      "metadata": {
        "id": "y_mWpbf4-TE-",
        "colab_type": "text"
      },
      "source": [
        "Defining function to load image"
      ]
    },
    {
      "cell_type": "code",
      "metadata": {
        "id": "aypWYdl-hFH0",
        "colab_type": "code",
        "colab": {}
      },
      "source": [
        "def load_image(path):\n",
        "  img = image.load_img(path, target_size = model.input_shape[1:3])\n",
        "  x = image.img_to_array(img)\n",
        "  x = np.expand_dims(x, axis=0)\n",
        "  x = preprocess_input(x)\n",
        "  return img, x"
      ],
      "execution_count": 0,
      "outputs": []
    },
    {
      "cell_type": "markdown",
      "metadata": {
        "id": "_mHZoON8-U-I",
        "colab_type": "text"
      },
      "source": [
        "Extracting images"
      ]
    },
    {
      "cell_type": "code",
      "metadata": {
        "id": "ggJpvKfoiOBy",
        "colab_type": "code",
        "colab": {}
      },
      "source": [
        "import os\n",
        "import random\n",
        "images_path = 'auto'\n",
        "image_extensions = ['.jpg', '.png', '.jpeg']\n",
        "max_num_images = 5000\n",
        "\n",
        "images = [os.path.join(dp, f) for dp, dn, filenames in os.walk(images_path) for f in filenames if os.path.splitext(f)[1].lower() in image_extensions]\n",
        "if max_num_images < len(images):\n",
        "    images = [images[i] for i in sorted(random.sample(range(len(images)), max_num_images))]\n",
        "\n",
        "print(\"Keeping %d images to analyze\" % len(images))"
      ],
      "execution_count": 0,
      "outputs": []
    },
    {
      "cell_type": "markdown",
      "metadata": {
        "id": "hkTPo4gy-YVB",
        "colab_type": "text"
      },
      "source": [
        "Extracting features"
      ]
    },
    {
      "cell_type": "code",
      "metadata": {
        "id": "xPbg6vEeiQ2a",
        "colab_type": "code",
        "colab": {}
      },
      "source": [
        "import time\n",
        "tic = time.clock()\n",
        "\n",
        "\n",
        "features = []\n",
        "for i, image_path in enumerate(images):\n",
        "    if i % 500 == 0:\n",
        "        toc = time.clock()\n",
        "        elap = toc-tic;\n",
        "        print(\"Analyzing image %d / %d. Time: %4.4f seconds.\" % (i, len(images),elap))\n",
        "        tic = time.clock()\n",
        "    img, x = load_image(image_path);\n",
        "    feat = feat_extractor.predict(x)[0]\n",
        "    features.append(feat)\n",
        "\n",
        "print('Finished extracting features for %d images' % len(images))"
      ],
      "execution_count": 0,
      "outputs": []
    },
    {
      "cell_type": "markdown",
      "metadata": {
        "id": "PmMb47KI-fAm",
        "colab_type": "text"
      },
      "source": [
        "Reducing to principal components"
      ]
    },
    {
      "cell_type": "code",
      "metadata": {
        "id": "pipkEm3ViTD0",
        "colab_type": "code",
        "colab": {}
      },
      "source": [
        "features = np.array(features)\n",
        "pca = PCA(n_components=300)\n",
        "pca.fit(features)"
      ],
      "execution_count": 0,
      "outputs": []
    },
    {
      "cell_type": "code",
      "metadata": {
        "id": "cbhAUCMgiU7b",
        "colab_type": "code",
        "colab": {}
      },
      "source": [
        "pca_features = pca.transform(features)"
      ],
      "execution_count": 0,
      "outputs": []
    },
    {
      "cell_type": "markdown",
      "metadata": {
        "id": "mEcshFvd-jCH",
        "colab_type": "text"
      },
      "source": [
        "# Finding similar images"
      ]
    },
    {
      "cell_type": "markdown",
      "metadata": {
        "id": "Ok4ZQ6yf-mMH",
        "colab_type": "text"
      },
      "source": [
        "Importing necessary modules"
      ]
    },
    {
      "cell_type": "code",
      "metadata": {
        "id": "4_UjSThTUaak",
        "colab_type": "code",
        "colab": {}
      },
      "source": [
        "from scipy.spatial import distance"
      ],
      "execution_count": 0,
      "outputs": []
    },
    {
      "cell_type": "markdown",
      "metadata": {
        "id": "7Q8IbEFc-oLu",
        "colab_type": "text"
      },
      "source": [
        "Defining function to find similar images"
      ]
    },
    {
      "cell_type": "code",
      "metadata": {
        "id": "exDGsHT9iVmT",
        "colab_type": "code",
        "colab": {}
      },
      "source": [
        "def get_closest_images(query_image_idx, num_results=5):\n",
        "    distances = [ distance.cosine(pca_features[query_image_idx], feat) for feat in pca_features ]\n",
        "    idx_closest = sorted(range(len(distances)), key=lambda k: distances[k])[1:num_results+1]\n",
        "    return idx_closest"
      ],
      "execution_count": 0,
      "outputs": []
    },
    {
      "cell_type": "markdown",
      "metadata": {
        "id": "SedO7jj6-r-G",
        "colab_type": "text"
      },
      "source": [
        "Defining function to display 5 most similar images"
      ]
    },
    {
      "cell_type": "code",
      "metadata": {
        "id": "lWoE7Esl-sMm",
        "colab_type": "code",
        "colab": {}
      },
      "source": [
        "\n",
        "def get_concatenated_images(indexes, thumb_height):\n",
        "    thumbs = []\n",
        "    for idx in indexes:\n",
        "        img = image.load_img(images[idx])\n",
        "        img = img.resize((int(img.width * thumb_height / img.height), thumb_height))\n",
        "        thumbs.append(img)\n",
        "    concat_image = np.concatenate([np.asarray(t) for t in thumbs], axis=1)\n",
        "    return concat_image\n"
      ],
      "execution_count": 0,
      "outputs": []
    },
    {
      "cell_type": "markdown",
      "metadata": {
        "id": "2zukjz4l-0ne",
        "colab_type": "text"
      },
      "source": [
        "Querying on a random image"
      ]
    },
    {
      "cell_type": "code",
      "metadata": {
        "id": "z-BMeiXHimNq",
        "colab_type": "code",
        "colab": {}
      },
      "source": [
        "query_image_idx = int(len(images) * random.random())\n",
        "idx_closest = get_closest_images(query_image_idx)\n",
        "query_image = get_concatenated_images([query_image_idx], 300)\n",
        "results_image = get_concatenated_images(idx_closest, 200)\n",
        "\n",
        "plt.figure(figsize = (5,5))\n",
        "plt.imshow(query_image)\n",
        "plt.title(\"query image (%d)\" % query_image_idx)\n",
        "\n",
        "plt.figure(figsize = (16,12))\n",
        "plt.imshow(results_image)\n",
        "plt.title(\"result images\")"
      ],
      "execution_count": 0,
      "outputs": []
    },
    {
      "cell_type": "markdown",
      "metadata": {
        "id": "31YP1YyM_ANV",
        "colab_type": "text"
      },
      "source": [
        "# Storing results"
      ]
    },
    {
      "cell_type": "markdown",
      "metadata": {
        "id": "PnWKeaA7_IlI",
        "colab_type": "text"
      },
      "source": [
        "Importing necessary modules"
      ]
    },
    {
      "cell_type": "code",
      "metadata": {
        "id": "WQOgpSSmWbrF",
        "colab_type": "code",
        "colab": {}
      },
      "source": [
        "import pandas as pd\n"
      ],
      "execution_count": 0,
      "outputs": []
    },
    {
      "cell_type": "markdown",
      "metadata": {
        "id": "u3JlrU-b_L6J",
        "colab_type": "text"
      },
      "source": [
        "Creating result data frame"
      ]
    },
    {
      "cell_type": "code",
      "metadata": {
        "id": "O6s7Qr1p_N9P",
        "colab_type": "code",
        "colab": {}
      },
      "source": [
        "df = pd.DataFrame(columns = [\"Query Image\",\"Closest Match\", \"Match 2\", \"Match 3\", \"Match 4\", \"Match 5\"])"
      ],
      "execution_count": 0,
      "outputs": []
    },
    {
      "cell_type": "markdown",
      "metadata": {
        "id": "PKMHlkLY_PSu",
        "colab_type": "text"
      },
      "source": [
        "Storing results to data frame"
      ]
    },
    {
      "cell_type": "code",
      "metadata": {
        "id": "K1UCVhB0TzUu",
        "colab_type": "code",
        "colab": {}
      },
      "source": [
        "df = df.append({\"Query Image\" : images[query_image_idx],\n",
        "                \"Closest Match\" : images[idx_closest[0]],\n",
        "                \"Match 2\" : images[idx_closest[1]],\n",
        "                \"Match 3\" : images[idx_closest[2]],\n",
        "                \"Match 4\" : images[idx_closest[3]],\n",
        "                \"Match 5\" : images[idx_closest[4]]},\n",
        "               ignore_index = True)"
      ],
      "execution_count": 0,
      "outputs": []
    },
    {
      "cell_type": "markdown",
      "metadata": {
        "id": "N4IGTzvP_aAG",
        "colab_type": "text"
      },
      "source": [
        "# Prediction"
      ]
    },
    {
      "cell_type": "markdown",
      "metadata": {
        "id": "wuIaKcjT_cTv",
        "colab_type": "text"
      },
      "source": [
        "Loading image and extracting features"
      ]
    },
    {
      "cell_type": "code",
      "metadata": {
        "id": "s9-nMS5D_kq1",
        "colab_type": "code",
        "colab": {}
      },
      "source": [
        "new_image, x = load_image(\"../image.jpg\")\n",
        "new_features = feat_extractor.predict(x)"
      ],
      "execution_count": 0,
      "outputs": []
    },
    {
      "cell_type": "markdown",
      "metadata": {
        "id": "eU1oo0v6_gL2",
        "colab_type": "text"
      },
      "source": [
        "PCA transformation"
      ]
    },
    {
      "cell_type": "code",
      "metadata": {
        "id": "r8An6PZn_ort",
        "colab_type": "code",
        "colab": {}
      },
      "source": [
        "new_pca_features = pca.transform(new_features)[0]"
      ],
      "execution_count": 0,
      "outputs": []
    },
    {
      "cell_type": "markdown",
      "metadata": {
        "id": "MsvvjWGS_i0e",
        "colab_type": "text"
      },
      "source": [
        "Getting result"
      ]
    },
    {
      "cell_type": "code",
      "metadata": {
        "id": "Ykt83B_xiqL7",
        "colab_type": "code",
        "colab": {}
      },
      "source": [
        "distances = [ distance.cosine(new_pca_features, feat) for feat in pca_features ]\n",
        "idx_closest = sorted(range(len(distances)), key=lambda k: distances[k])[0:5]  # grab first 5\n",
        "results_image = get_concatenated_images(idx_closest, 200)\n",
        "\n",
        "plt.figure(figsize = (5,5))\n",
        "plt.imshow(new_image)\n",
        "plt.title(\"query image\")\n",
        "\n",
        "plt.figure(figsize = (16,12))\n",
        "plt.imshow(results_image)\n",
        "plt.title(\"result images\")"
      ],
      "execution_count": 0,
      "outputs": []
    }
  ]
}